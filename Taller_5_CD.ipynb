{
  "nbformat": 4,
  "nbformat_minor": 0,
  "metadata": {
    "colab": {
      "provenance": [],
      "authorship_tag": "ABX9TyMohvCny4IxJcI6GSwsEoi4",
      "include_colab_link": true
    },
    "kernelspec": {
      "name": "python3",
      "display_name": "Python 3"
    },
    "language_info": {
      "name": "python"
    }
  },
  "cells": [
    {
      "cell_type": "markdown",
      "metadata": {
        "id": "view-in-github",
        "colab_type": "text"
      },
      "source": [
        "<a href=\"https://colab.research.google.com/github/Vess13/cd-angel-chaparro-2023/blob/main/Taller_5_CD.ipynb\" target=\"_parent\"><img src=\"https://colab.research.google.com/assets/colab-badge.svg\" alt=\"Open In Colab\"/></a>"
      ]
    },
    {
      "cell_type": "code",
      "execution_count": 39,
      "metadata": {
        "colab": {
          "base_uri": "https://localhost:8080/"
        },
        "id": "286MPUhnO4hl",
        "outputId": "ca7467a4-6312-47bb-e8b8-8016e5f35902"
      },
      "outputs": [
        {
          "output_type": "stream",
          "name": "stdout",
          "text": [
            "Número de puntos dentro de una distancia de 1 o menos: 786307\n",
            "Final 3.145228\n"
          ]
        }
      ],
      "source": [
        "import numpy as np\n",
        "\n",
        "# Generar 1 millón de puntos en un plano de 1x1\n",
        "num_points = 1000000\n",
        "x_coords = np.random.rand(num_points)\n",
        "y_coords = np.random.rand(num_points)\n",
        "\n",
        "# Contador para puntos dentro de una distancia de 1 o menos\n",
        "count_within_distance = 0\n",
        "\n",
        "# Calcular la distancia de cada punto al origen (0, 0)\n",
        "distances = np.sqrt(x_coords**2 + y_coords**2)\n",
        "\n",
        "# Contar los puntos que están a una distancia de 1 o menos\n",
        "count_within_distance = np.sum(distances <= 1)\n",
        "\n",
        "print(\"Número de puntos dentro de una distancia de 1 o menos:\", count_within_distance)\n",
        "print(\"Final\", 4*(count_within_distance/num_points))\n"
      ]
    },
    {
      "cell_type": "code",
      "source": [
        "# Número de puntos a generar\n",
        "num_points = 1000000\n",
        "\n",
        "# Inicializa el contador para puntos dentro de una distancia de 1 al origen\n",
        "points_within_distance = 0\n",
        "\n",
        "# Tamaño del paso para cada iteración (1M puntos en un plano 1x1)\n",
        "step_size = 1 / 999\n",
        "\n",
        "# Genera los puntos y cuenta cuántos están dentro de una distancia de 1 al origen\n",
        "for i in range(1000):\n",
        "    for j in range(1000):\n",
        "        x = i * step_size\n",
        "        y = j * step_size\n",
        "        distance_to_origin = np.sqrt(x**2 + y**2)\n",
        "\n",
        "        if distance_to_origin <= 1:\n",
        "            points_within_distance += 1\n",
        "\n",
        "print(\"Número de puntos dentro de una distancia de 1 al origen:\", points_within_distance)\n",
        "print(\"Final\", 4*(points_within_distance/num_points))"
      ],
      "metadata": {
        "colab": {
          "base_uri": "https://localhost:8080/"
        },
        "id": "nyJjxhptPYEm",
        "outputId": "7bbd579a-9963-4bb6-d3ea-dd98872b6ff7"
      },
      "execution_count": 29,
      "outputs": [
        {
          "output_type": "stream",
          "name": "stdout",
          "text": [
            "Número de puntos dentro de una distancia de 1 al origen: 784789\n",
            "Final 3.139156\n"
          ]
        }
      ]
    }
  ]
}